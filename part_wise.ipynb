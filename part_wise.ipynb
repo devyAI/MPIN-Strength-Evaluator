{
 "cells": [
  {
   "cell_type": "markdown",
   "metadata": {},
   "source": [
    "# MPIN Strength Checker\n",
    "\n",
    "I have implemented each logic in separate parts to get clarity.\n",
    "- Commonly used PINs\n",
    "- Demographic-based PINs \n",
    "- Strength evaluation with reason\n",
    "\n"
   ]
  },
  {
   "cell_type": "markdown",
   "metadata": {},
   "source": [
    "## Part A: Load Commonly Used PINs\n",
    "\n",
    "This section loads the top N commonly used PINs from a .csv file. These PINs are sourced from [SecLists](https://github.com/danielmiessler/SecLists), a curated collection of security-related lists. The dataset was selected after thorough research to ensure it represents real-world patterns."
   ]
  },
  {
   "cell_type": "code",
   "execution_count": 10,
   "metadata": {},
   "outputs": [],
   "source": [
    "import pandas as pd\n",
    "\n",
    "def load_top_pins(pin_file_path, top_n=100):\n",
    "    try:\n",
    "        df = pd.read_csv(pin_file_path, header=None, names=[\"PIN\", \"Frequency\"])\n",
    "        df[\"PIN\"] = df[\"PIN\"].astype(str).str.strip()\n",
    "        topPins = df.sort_values(by=\"Frequency\", ascending=False).head(top_n)[\"PIN\"].tolist()\n",
    "        return topPins\n",
    "    except FileNotFoundError:\n",
    "        print(\"Error: PIN file not found.\")\n",
    "        return []\n",
    "    except Exception as e:\n",
    "        print(f\"Error: {e}\")\n",
    "        return []"
   ]
  },
  {
   "cell_type": "markdown",
   "metadata": {},
   "source": [
    "## Part B: Generate Demographic PINs\n",
    "\n",
    "This section generates possible PIN combinations based on user demographics, such as:\n",
    "- Date of Birth (DOB).\n",
    "- Spouse's Date of Birth.\n",
    "- Wedding Anniversary.\n",
    "\n",
    "The generated PINs include patterns like DDMMYY, MMDDYY, YYDDMM etc."
   ]
  },
  {
   "cell_type": "code",
   "execution_count": 11,
   "metadata": {},
   "outputs": [],
   "source": [
    "def generate_demographic_pins(dob, spouse_dob, anniversary):\n",
    "    pins = {\n",
    "        \"dob_self\":set(),\n",
    "        \"dob_spouse\":set(),\n",
    "        \"anniversary\":set()\n",
    "    }\n",
    "    def permutations(date):\n",
    "        if len(date) == 8:  #DDMMYYYY\n",
    "            dd = date[:2]\n",
    "            mm = date[2:4]\n",
    "            yyyy = date[4:]\n",
    "            yy = date[6:]\n",
    "\n",
    "            return {dd + mm + yy, mm + dd + yy, yyyy[:2] + dd + mm, yyyy[:2] + mm + dd}\n",
    "        return set()\n",
    "    if dob:\n",
    "        pins[\"dob_self\"].update(permutations(dob))\n",
    "    if spouse_dob:\n",
    "        pins[\"dob_spouse\"].update(permutations(spouse_dob))\n",
    "    if anniversary:\n",
    "        pins[\"anniversary\"].update(permutations(anniversary))\n",
    "    \n",
    "    return pins"
   ]
  },
  {
   "cell_type": "markdown",
   "metadata": {},
   "source": [
    "## Part C: Evaluate PIN Strength\n",
    "\n",
    "i then found out the strength by referring to\n",
    "- Commonly used PINs.\n",
    "- Demographic-based PINs.\n",
    "\n",
    "The program returns:\n",
    "- *Strength: WEAK or STRONG.\n",
    "- *Reasons for Weakness:\n",
    "  - COMMONLY_USED\n",
    "  - DEMOGRAPHIC_DOB_SELF\n",
    "  - DEMOGRAPHIC_DOB_SPOUSE\n",
    "  - DEMOGRAPHIC_ANNIVERSARY"
   ]
  },
  {
   "cell_type": "code",
   "execution_count": 12,
   "metadata": {},
   "outputs": [],
   "source": [
    "def pinStrength(pin,common_pins,demographic_pins):\n",
    "    reasons = []\n",
    "    if pin in common_pins:\n",
    "        reasons.append(\"COMMONLY_USED\")\n",
    "    if pin in demographic_pins[\"dob_self\"]:\n",
    "        reasons.append(\"DEMOGRAPHIC_DOB_SELF\")\n",
    "    if pin in demographic_pins[\"dob_spouse\"]:\n",
    "        reasons.append(\"DEMOGRAPHIC_DOB_SPOUSE\")\n",
    "    if pin in demographic_pins[\"anniversary\"]:\n",
    "        reasons.append(\"DEMOGRAPHIC_ANNIVERSARY\")\n",
    "    \n",
    "    # Determine strength\n",
    "    if reasons:\n",
    "        return \"WEAK\", reasons\n",
    "    else:\n",
    "        return \"STRONG\", []"
   ]
  },
  {
   "cell_type": "markdown",
   "metadata": {},
   "source": [
    "## Part D: Main Program\n",
    "\n",
    "This section combines all parts to evaluate the strength of a user-provided 6-digit PIN."
   ]
  },
  {
   "cell_type": "code",
   "execution_count": 13,
   "metadata": {},
   "outputs": [
    {
     "name": "stdout",
     "output_type": "stream",
     "text": [
      "loaded common PINs: ['PIN', '444444', '321123', '889900', '040404', '000000', '111111', '147258', '222222', '666666', '112233', '090909', '456654', '789987', '987654', '050505', '445566', '070707', '333333', '121212', '999999', '777777', '123456', '789123', '789456', '101010', '778899', '456789', '123321', '334455', '010101', '123789', '654321', '080808', '888888', '223344', '555555', '060606', '654456', '556677', '667788', '987789', '020202', '258369', '030303']\n",
      "generated demographic PINs: {'dob_self': {'050104', '200105', '010504', '200501'}, 'dob_spouse': {'201903', '200319', '190310', '031910'}, 'anniversary': {'190610', '061910', '201906', '200619'}}\n",
      "Strength: WEAK\n",
      "Reasons: ['DEMOGRAPHIC_DOB_SELF']\n"
     ]
    }
   ],
   "source": [
    "# Main Program\n",
    "if __name__ == \"__main__\":\n",
    "    \n",
    "    pin_file_path = \"/Users/dev/Desktop/OneBanc_assignment_devyani/most_common_pins/6_digit_pins.csv\"\n",
    "    commonPins = load_top_pins(pin_file_path)\n",
    "    print(\"loaded common PINs:\", commonPins)\n",
    "\n",
    "    \n",
    "    dob = input(\"Enter your DOB(DDMMYYYY): \")\n",
    "    spouse_dob = input(\"Enter your Spouse's DOB(DDMMYYYY): \")\n",
    "    anniversary = input(\"Enter your Wedding Anniversary(DDMMYYYY): \")\n",
    "    demographic_pins = generate_demographic_pins(dob, spouse_dob, anniversary)\n",
    "    print(\"generated demographic PINs:\", demographic_pins)\n",
    "\n",
    "    pin = input(\"Enter PIN to evaluate its strength: \")\n",
    "    strength, reasons = pinStrength(pin, commonPins, demographic_pins)\n",
    "    print(f\"Strength: {strength}\")\n",
    "    print(f\"Reasons: {reasons}\")"
   ]
  },
  {
   "cell_type": "code",
   "execution_count": null,
   "id": "0a0ff0d4",
   "metadata": {},
   "outputs": [],
   "source": []
  }
 ],
 "metadata": {
  "kernelspec": {
   "display_name": "Python 3",
   "language": "python",
   "name": "python3"
  },
  "language_info": {
   "codemirror_mode": {
    "name": "ipython",
    "version": 3
   },
   "file_extension": ".py",
   "mimetype": "text/x-python",
   "name": "python",
   "nbconvert_exporter": "python",
   "pygments_lexer": "ipython3",
   "version": "3.12.4"
  }
 },
 "nbformat": 4,
 "nbformat_minor": 5
}
